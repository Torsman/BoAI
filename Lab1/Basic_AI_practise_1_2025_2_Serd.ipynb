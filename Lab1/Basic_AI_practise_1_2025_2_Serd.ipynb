{
  "cells": [
    {
      "cell_type": "markdown",
      "metadata": {
        "id": "fQcvdlwdimQb"
      },
      "source": [
        "**Оцінювання даної роботи буде ураховувати якість Вашого коду та текстових відповідей. При наявності ЛИШЕ коду , робота оцінюватися НЕ БУДЕ.**  \n",
        "\n",
        "**Оформлення текстових відповідей повинно проводитися в текстових комірках ноутбука з використанням синтаксису [LaTeX](https://en.wikibooks.org/wiki/LaTeX/Basics) для оформлення тексту та формул.**\n",
        "\n",
        "**Роботи ідентифіковані як ІДЕНТИЧНІ одразу отримують 0 балів.**\n",
        "\n",
        "**При реалізації завдань потрібно використовувати методи з бібліотеки numpy та pandas.**\n",
        "\n",
        "**Рішення з циклами будуть оцінені в 0 балів.**"
      ]
    },
    {
      "cell_type": "markdown",
      "metadata": {
        "id": "UfI7FZudfGwv"
      },
      "source": [
        "# I. NumPy."
      ]
    },
    {
      "cell_type": "markdown",
      "metadata": {
        "id": "XmA3PWg8fJxn"
      },
      "source": [
        "0. Імпортувати numpy загальноприйнятим способом."
      ]
    },
    {
      "cell_type": "code",
      "execution_count": 1,
      "metadata": {
        "id": "JUli5tR8eTXG"
      },
      "outputs": [],
      "source": [
        "import numpy as np"
      ]
    },
    {
      "cell_type": "markdown",
      "metadata": {
        "id": "fppWPwoFjTrl"
      },
      "source": [
        "1. Визначити список з оцінками студента(ки) за семестр. Використовуючи його, створити одновимірний масив numpy."
      ]
    },
    {
      "cell_type": "code",
      "execution_count": 2,
      "metadata": {
        "id": "cuvs9lNAjVoB",
        "colab": {
          "base_uri": "https://localhost:8080/"
        },
        "outputId": "c729b946-c58d-4b9e-d6c5-531de26f7a32"
      },
      "outputs": [
        {
          "output_type": "stream",
          "name": "stdout",
          "text": [
            "[85 90 78 92 88 76 95 89]\n"
          ]
        }
      ],
      "source": [
        "grades = [85, 90, 78, 92, 88, 76, 95, 89]\n",
        "\n",
        "grades_array = np.array(grades)\n",
        "print(grades_array)"
      ]
    },
    {
      "cell_type": "markdown",
      "metadata": {
        "id": "OGeLtAwcjcMB"
      },
      "source": [
        "2. Визначити список зі списками, де кожен рядок списку формально означає магазин, а кожна колонка - певний продукт (батон, яйця першої категорії, молоко та ковбаса), а елементами на пересічі є ціни на ці продукти відповідно. Використовуючи цей список, створити матрицю (двовимірний масив) numpy."
      ]
    },
    {
      "cell_type": "code",
      "execution_count": 3,
      "metadata": {
        "id": "zJ9kEAv5jcVo",
        "colab": {
          "base_uri": "https://localhost:8080/"
        },
        "outputId": "6e313107-94a7-41cf-eee4-43bd7767a35b"
      },
      "outputs": [
        {
          "output_type": "stream",
          "name": "stdout",
          "text": [
            "[[12.5 10.  25.  50. ]\n",
            " [13.   9.5 24.5 48. ]\n",
            " [12.  10.5 26.  51. ]]\n"
          ]
        }
      ],
      "source": [
        "prices = [\n",
        "    [12.5, 10.0, 25.0, 50.0],\n",
        "    [13.0, 9.5, 24.5, 48.0],\n",
        "    [12.0, 10.5, 26.0, 51.0],\n",
        "]\n",
        "\n",
        "prices_matrix = np.array(prices)\n",
        "print(prices_matrix)"
      ]
    },
    {
      "cell_type": "markdown",
      "metadata": {
        "id": "wK7wrEw2jcix"
      },
      "source": [
        "3. Отримайте тип даних значень з масивів завдань 2 та 3. Виведіть їх на екран."
      ]
    },
    {
      "cell_type": "code",
      "execution_count": 4,
      "metadata": {
        "id": "uDBL1x6vjcq9",
        "colab": {
          "base_uri": "https://localhost:8080/"
        },
        "outputId": "f9002010-f06d-4b31-a8e9-cd700cb4900a"
      },
      "outputs": [
        {
          "output_type": "stream",
          "name": "stdout",
          "text": [
            "{dtype('int64')}\n",
            "{dtype('float64')}\n"
          ]
        }
      ],
      "source": [
        "grades = [85, 90, 78, 92, 88, 76, 95, 89]\n",
        "grades_array = np.array(grades)\n",
        "\n",
        "prices = [\n",
        "    [12.5, 10.0, 25.0, 50.0],\n",
        "    [13.0, 9.5, 24.5, 48.0],\n",
        "    [12.0, 10.5, 26.0, 51.0],\n",
        "]\n",
        "prices_matrix = np.array(prices)\n",
        "\n",
        "grades_dtype = grades_array.dtype\n",
        "prices_dtype = prices_matrix.dtype\n",
        "\n",
        "print({grades_dtype})\n",
        "print({prices_dtype})"
      ]
    },
    {
      "cell_type": "markdown",
      "metadata": {
        "id": "nNhAgsC3jcyp"
      },
      "source": [
        "4. Отримайте форми (кортеж з кількістю рядків та колонок) масивів завдань 2 та 3. Виведіть їх на екран."
      ]
    },
    {
      "cell_type": "code",
      "execution_count": 5,
      "metadata": {
        "id": "Fi5oXTI8jc4-",
        "colab": {
          "base_uri": "https://localhost:8080/"
        },
        "outputId": "25521a9f-bfb7-4c9d-b44c-52fff9d1fa90"
      },
      "outputs": [
        {
          "output_type": "stream",
          "name": "stdout",
          "text": [
            "{(8,)}\n",
            "{(3, 4)}\n"
          ]
        }
      ],
      "source": [
        "grades = [85, 90, 78, 92, 88, 76, 95, 89]\n",
        "grades_array = np.array(grades)\n",
        "\n",
        "prices = [\n",
        "    [12.5, 10.0, 25.0, 50.0],\n",
        "    [13.0, 9.5, 24.5, 48.0],\n",
        "    [12.0, 10.5, 26.0, 51.0],\n",
        "]\n",
        "prices_matrix = np.array(prices)\n",
        "\n",
        "grades_shape = grades_array.shape\n",
        "prices_shape = prices_matrix.shape\n",
        "\n",
        "print({grades_shape})\n",
        "print({prices_shape})"
      ]
    },
    {
      "cell_type": "markdown",
      "metadata": {
        "id": "bpY-N8QZjdW-"
      },
      "source": [
        "5. Створіть одновимірний масив за допомогою спеціальної функції numpy, який би відображав динаміку стабільно зростаючого (з рівними проміжками) прибутку з продажів  за тиждень, де у перший день не було продажів, а в останній день тижня вдалося заробити 1000 грн 50 коп."
      ]
    },
    {
      "cell_type": "code",
      "execution_count": 6,
      "metadata": {
        "id": "r3LcjnUKjdeu",
        "colab": {
          "base_uri": "https://localhost:8080/"
        },
        "outputId": "5214b68a-cbb7-4e75-d8af-b11679b9e644"
      },
      "outputs": [
        {
          "output_type": "stream",
          "name": "stdout",
          "text": [
            "[   0.    166.75  333.5   500.25  667.    833.75 1000.5 ]\n"
          ]
        }
      ],
      "source": [
        "sales_growth = np.linspace(0, 1000.50, 7)\n",
        "print(sales_growth)"
      ]
    },
    {
      "cell_type": "markdown",
      "metadata": {
        "id": "zQM0SY9jjebO"
      },
      "source": [
        "6. Створіть два масиви. Використовуючи їх, продемонструйте відмінність вертикального та горизонтального обʼєднання масивів."
      ]
    },
    {
      "cell_type": "code",
      "execution_count": 7,
      "metadata": {
        "id": "8uoi0_lxjeh-",
        "colab": {
          "base_uri": "https://localhost:8080/"
        },
        "outputId": "e66d8ffc-39e6-4e87-c6f5-77810da86f6f"
      },
      "outputs": [
        {
          "output_type": "stream",
          "name": "stdout",
          "text": [
            "[1 2 3]\n",
            "[4 5 6]\n",
            "[1 2 3 4 5 6]\n",
            "[[1 2 3]\n",
            " [4 5 6]]\n"
          ]
        }
      ],
      "source": [
        "array1 = np.array([1, 2, 3])\n",
        "array2 = np.array([4, 5, 6])\n",
        "\n",
        "horizontal_concat = np.hstack((array1, array2))\n",
        "vertical_concat = np.vstack((array1, array2))\n",
        "\n",
        "print(array1)\n",
        "print(array2)\n",
        "\n",
        "print(horizontal_concat)\n",
        "print(vertical_concat)"
      ]
    },
    {
      "cell_type": "markdown",
      "metadata": {
        "id": "Fwh5D1pDm3t7"
      },
      "source": [
        "7. Визначити функцію, яка приймає на вході масив і транспонує його. Скористайтесь методом reshape. І не забудьте почати з docstrings."
      ]
    },
    {
      "cell_type": "code",
      "execution_count": 8,
      "metadata": {
        "id": "FSWZq0mkm31Z",
        "colab": {
          "base_uri": "https://localhost:8080/"
        },
        "outputId": "7274b822-ae81-4660-9b72-a0cf526b9406"
      },
      "outputs": [
        {
          "output_type": "stream",
          "name": "stdout",
          "text": [
            "[[1 2 3]\n",
            " [4 5 6]]\n",
            "[[1 2]\n",
            " [3 4]\n",
            " [5 6]]\n"
          ]
        }
      ],
      "source": [
        "def transpose_array(array):\n",
        "\n",
        "    if len(array.shape) != 2:\n",
        "        raise ValueError(\"0\")\n",
        "\n",
        "    transposed = array.reshape(array.shape[1], array.shape[0])\n",
        "    return transposed\n",
        "\n",
        "\n",
        "matrix = np.array([[1, 2, 3], [4, 5, 6]])\n",
        "transposed_matrix = transpose_array(matrix)\n",
        "\n",
        "print(matrix)\n",
        "print(transposed_matrix)"
      ]
    },
    {
      "cell_type": "markdown",
      "metadata": {
        "id": "Nnxk8vqYm379"
      },
      "source": [
        "8. Створіть два масиви. Використовучи ці масиви, продемонструйте 1) операцію по-елементного додавання, 2) операцію по-елементного віднімання, 3) множення масиву на число, 4) операцію по-елементного множення, і 5) матричного множення."
      ]
    },
    {
      "cell_type": "code",
      "execution_count": 9,
      "metadata": {
        "id": "qO1rfvmVm4BI",
        "colab": {
          "base_uri": "https://localhost:8080/"
        },
        "outputId": "496ac90d-139f-499b-9c8e-2fca38a3ff0d"
      },
      "outputs": [
        {
          "output_type": "stream",
          "name": "stdout",
          "text": [
            "[[1 2]\n",
            " [3 4]]\n",
            "[[5 6]\n",
            " [7 8]]\n",
            "[[ 6  8]\n",
            " [10 12]]\n",
            "[[-4 -4]\n",
            " [-4 -4]]\n",
            "[[ 88 176]\n",
            " [264 352]]\n",
            "[[ 5 12]\n",
            " [21 32]]\n",
            "[[19 22]\n",
            " [43 50]]\n"
          ]
        }
      ],
      "source": [
        "array1 = np.array([[1, 2], [3, 4]])\n",
        "array2 = np.array([[5, 6], [7, 8]])\n",
        "\n",
        "addition = array1 + array2\n",
        "subtraction = array1 - array2\n",
        "scalar_multiplication = array1 * 88\n",
        "elementwise_multiplication = array1 * array2\n",
        "matrix_multiplication = np.dot(array1, array2)\n",
        "\n",
        "print(array1)\n",
        "print(array2)\n",
        "\n",
        "print(addition)\n",
        "print(subtraction)\n",
        "print(scalar_multiplication)\n",
        "print(elementwise_multiplication)\n",
        "print(matrix_multiplication)"
      ]
    },
    {
      "cell_type": "markdown",
      "metadata": {
        "id": "7aGdszTGuMCC"
      },
      "source": [
        "9. Створіть двовимірний масив (матрицю) та розрахуйте: 1) мінімальне число, 2) максимальне число, 3) суму чисел, 4) мінімальні числа для кожного рядка, 5) максимальні числа для кожного стовпчика."
      ]
    },
    {
      "cell_type": "code",
      "execution_count": 10,
      "metadata": {
        "id": "RL_39YdauMKS",
        "colab": {
          "base_uri": "https://localhost:8080/"
        },
        "outputId": "f72d29e6-fee1-4897-d40e-063aa6be2f4e"
      },
      "outputs": [
        {
          "output_type": "stream",
          "name": "stdout",
          "text": [
            "matrix\n",
            "[[1 2 3]\n",
            " [4 5 6]\n",
            " [7 8 9]]\n",
            "min\n",
            "1\n",
            "max\n",
            "9\n",
            "sum\n",
            "45\n",
            "min for each rwo\n",
            "[1 4 7]\n",
            "max for each row\n",
            "[7 8 9]\n"
          ]
        }
      ],
      "source": [
        "matrix = np.array([[1, 2, 3], [4, 5, 6], [7, 8, 9]])\n",
        "\n",
        "min_value = np.min(matrix)\n",
        "max_value = np.max(matrix)\n",
        "sum_value = np.sum(matrix)\n",
        "min_row_values = np.min(matrix, axis=1)\n",
        "max_col_values = np.max(matrix, axis=0)\n",
        "\n",
        "print(\"matrix\")\n",
        "print(matrix)\n",
        "\n",
        "print(\"min\")\n",
        "print(min_value)\n",
        "\n",
        "print(\"max\")\n",
        "print(max_value)\n",
        "\n",
        "print(\"sum\")\n",
        "print(sum_value)\n",
        "\n",
        "print(\"min for each rwo\")\n",
        "print(min_row_values)\n",
        "\n",
        "print(\"max for each row\")\n",
        "print(max_col_values)"
      ]
    },
    {
      "cell_type": "markdown",
      "metadata": {
        "id": "c_hNdOpjHRFo"
      },
      "source": [
        "10. Створіть матрицю , де деякі елементи повторюються. Знайдіть унікальні значення елементів цієї матриці та їхні частоти."
      ]
    },
    {
      "cell_type": "code",
      "execution_count": 11,
      "metadata": {
        "colab": {
          "base_uri": "https://localhost:8080/"
        },
        "id": "msV7qOrNY6Xy",
        "outputId": "fb95e831-8140-477d-9abd-e0780428068f"
      },
      "outputs": [
        {
          "output_type": "stream",
          "name": "stdout",
          "text": [
            "[[1 2 2]\n",
            " [3 4 4]\n",
            " [5 1 1]]\n",
            "value: 1, coumt: 3\n",
            "value: 2, coumt: 2\n",
            "value: 3, coumt: 1\n",
            "value: 4, coumt: 2\n",
            "value: 5, coumt: 1\n"
          ]
        }
      ],
      "source": [
        "matrix = np.array([[1, 2, 2], [3, 4, 4], [5, 1, 1]])\n",
        "\n",
        "unique_values, counts = np.unique(matrix, return_counts=True)\n",
        "print(matrix)\n",
        "\n",
        "for value, count in zip(unique_values, counts):\n",
        "    print(f\"value: {value}, coumt: {count}\")"
      ]
    },
    {
      "cell_type": "markdown",
      "metadata": {
        "id": "Usj7tyjnprEV"
      },
      "source": [
        "# II. Importing. Creating DF"
      ]
    },
    {
      "cell_type": "markdown",
      "metadata": {
        "id": "ePGNrYa6pxRY"
      },
      "source": [
        "0. Імпортувати бібліотеку pandas"
      ]
    },
    {
      "cell_type": "code",
      "execution_count": 12,
      "metadata": {
        "id": "KIPDNBqQpvkI"
      },
      "outputs": [],
      "source": [
        "import pandas as pd"
      ]
    },
    {
      "cell_type": "code",
      "execution_count": 13,
      "metadata": {
        "id": "FPjq4MWjY6Xy"
      },
      "outputs": [],
      "source": [
        "import numpy as np"
      ]
    },
    {
      "cell_type": "markdown",
      "metadata": {
        "id": "8g9-hgi5qWJv"
      },
      "source": [
        "11. Створити тестовий датафрейм зі списку, що містить записи пацієнтів про їхні прізвища, імена, дату народження, масу тіла та наявність медичного страхування. Одне зі значень зробить пустим. Ознайомтесь з типом кожної колонки."
      ]
    },
    {
      "cell_type": "code",
      "execution_count": 14,
      "metadata": {
        "id": "OvA4GvJ5qYb1"
      },
      "outputs": [],
      "source": [
        "data = [\n",
        "    ['Johnathan', 'Jhon', '1990-12-15', 75, True],\n",
        "    ['Kaluchiski', 'Robert', '1985-11-13', 60, False],\n",
        "    ['Trumphel', 'Donald', '2000-03-20', np.nan, True],\n",
        "    ['Giovani', 'Carlos', '1995-08-09', 120, False]\n",
        "]"
      ]
    },
    {
      "cell_type": "code",
      "execution_count": 15,
      "metadata": {
        "id": "9ioPRVvxqcQ7",
        "colab": {
          "base_uri": "https://localhost:8080/"
        },
        "outputId": "41bb5e0e-4b9a-4414-e55a-eded486286ef"
      },
      "outputs": [
        {
          "output_type": "stream",
          "name": "stdout",
          "text": [
            "Surname       object\n",
            "Name          object\n",
            "DoB           object\n",
            "Weight       float64\n",
            "Med polis       bool\n",
            "dtype: object\n",
            "      Surname    Name         DoB  Weight  Med polis\n",
            "0   Johnathan    Jhon  1990-12-15    75.0       True\n",
            "1  Kaluchiski  Robert  1985-11-13    60.0      False\n",
            "2    Trumphel  Donald  2000-03-20     NaN       True\n",
            "3     Giovani  Carlos  1995-08-09   120.0      False\n"
          ]
        }
      ],
      "source": [
        "df = pd.DataFrame(data, columns=['Surname', 'Name', 'DoB', 'Weight', 'Med polis'])\n",
        "\n",
        "print(df.dtypes)\n",
        "print(df)"
      ]
    },
    {
      "cell_type": "markdown",
      "metadata": {
        "id": "b1SvVHjjqcv-"
      },
      "source": [
        "# III. Reading from file"
      ]
    },
    {
      "cell_type": "markdown",
      "metadata": {
        "id": "7HhZWLs_qhgq"
      },
      "source": [
        "12. Завантажити файл missile_attacks_daily.csv з [Kaggle](https://www.kaggle.com/datasets/piterfm/massive-missile-attacks-on-ukraine?select=missile_attacks_daily.csv). Ознайомитись з описом датасету. Додати файл до папки поточної сесії colab notebook на панелі ліворуч або на гугл диск (локально до проєкту, якщо працюєте у пайчармі). Зчитати датафрейм з файлу та вивести датафрейм на екран. Зверніть увагу на те, щоб всі колонки відповідали наведеним у описі типам даних."
      ]
    },
    {
      "cell_type": "code",
      "execution_count": 16,
      "metadata": {
        "id": "oQcB3kIqqg0h",
        "colab": {
          "base_uri": "https://localhost:8080/"
        },
        "outputId": "d44ddf4c-7b1e-4171-96fa-ef16fc1ac755"
      },
      "outputs": [
        {
          "output_type": "stream",
          "name": "stdout",
          "text": [
            "            time_start          time_end               model  \\\n",
            "0     2025-01-18 20:00  2025-01-19 09:00      Shahed-136/131   \n",
            "1     2025-01-17 19:00  2025-01-18 08:00      Shahed-136/131   \n",
            "2     2025-01-16 19:00  2025-01-17 09:00      Shahed-136/131   \n",
            "3     2025-01-16 19:00  2025-01-17 09:00    Iskander-M/KN-23   \n",
            "4     2025-01-16 19:00  2025-01-17 09:00          Iskander-M   \n",
            "...                ...               ...                 ...   \n",
            "2039  2022-10-01 12:00  2022-10-01 12:00            Orlan-10   \n",
            "2040        2022-09-30        2022-09-30            Orlan-10   \n",
            "2041  2022-09-29 23:00  2022-09-29 23:59      Shahed-136/131   \n",
            "2042        2022-09-28        2022-09-28                X-59   \n",
            "2043        2022-09-28        2022-09-28  Reconnaissance UAV   \n",
            "\n",
            "                                           launch_place  \\\n",
            "0         Bryansk oblast and Oryol oblast and Millerovo   \n",
            "1     Primorsko-Akhtarsk and Bryansk oblast and Mill...   \n",
            "2     Primorsko-Akhtarsk and Kursk oblast and Bryans...   \n",
            "3                    Bryansk oblast and Voronezh oblast   \n",
            "4                                         Rostov oblast   \n",
            "...                                                 ...   \n",
            "2039                                                NaN   \n",
            "2040                                                NaN   \n",
            "2041                                                NaN   \n",
            "2042                                                NaN   \n",
            "2043                                                NaN   \n",
            "\n",
            "                                             target carrier  launched  \\\n",
            "0                                           Ukraine     NaN      61.0   \n",
            "1                                           Ukraine     NaN      39.0   \n",
            "2                                           Ukraine     NaN      50.0   \n",
            "3                                       Kyiv oblast     NaN       4.0   \n",
            "4                                           Ukraine     NaN       2.0   \n",
            "...                                             ...     ...       ...   \n",
            "2039                                        Ukraine     NaN       1.0   \n",
            "2040                                        Ukraine     NaN       3.0   \n",
            "2041               Odesa oblast and Mykolaiv oblast     NaN       7.0   \n",
            "2042  Dnipropetrovsk oblast and Zaporizhzhia oblast   Su-35       5.0   \n",
            "2043                                        Ukraine     NaN       3.0   \n",
            "\n",
            "      destroyed  not_reach_goal  cross_border_belarus  back_russia  \\\n",
            "0            43            15.0                   NaN          NaN   \n",
            "1            24            14.0                   NaN          NaN   \n",
            "2            33             9.0                   NaN          NaN   \n",
            "3             2             NaN                   NaN          NaN   \n",
            "4             0             NaN                   NaN          NaN   \n",
            "...         ...             ...                   ...          ...   \n",
            "2039          1             NaN                   NaN          NaN   \n",
            "2040          3             NaN                   NaN          NaN   \n",
            "2041          5             NaN                   NaN          NaN   \n",
            "2042          4             NaN                   NaN          NaN   \n",
            "2043          3             NaN                   NaN          NaN   \n",
            "\n",
            "      still_attacking                                  destroyed_details  \\\n",
            "0                 1.0  {'Mykolaiv oblast': NaN,    'Kyiv oblast': NaN...   \n",
            "1                 NaN  {'Kherson oblast': NaN, 'Khmelnytskyi oblast':...   \n",
            "2                 NaN  {'Odesa oblast and Mykolaiv oblast': 7, 'Khmel...   \n",
            "3                 NaN                                                NaN   \n",
            "4                 NaN                                                NaN   \n",
            "...               ...                                                ...   \n",
            "2039              NaN                                                NaN   \n",
            "2040              NaN                                                NaN   \n",
            "2041              NaN                                                NaN   \n",
            "2042              NaN                                                NaN   \n",
            "2043              NaN                                                NaN   \n",
            "\n",
            "     launched_details launch_place_details  \\\n",
            "0                 NaN                  NaN   \n",
            "1                 NaN                  NaN   \n",
            "2                 NaN                  NaN   \n",
            "3                 NaN                  NaN   \n",
            "4                 NaN                  NaN   \n",
            "...               ...                  ...   \n",
            "2039              NaN                  NaN   \n",
            "2040              NaN                  NaN   \n",
            "2041              NaN                  NaN   \n",
            "2042              NaN                  NaN   \n",
            "2043              NaN                  NaN   \n",
            "\n",
            "                                                 source  \n",
            "0     kpszsu/posts/pfbid0meYNAsX4voALE4SXunVpzKTwzrJ...  \n",
            "1     kpszsu/posts/pfbid0Rpzfu7u9ERu4o49Gm12eqSogKvZ...  \n",
            "2     kpszsu/posts/pfbid0Gvye9Wn2gj8RPiiGaTQFGRas9Yg...  \n",
            "3     kpszsu/posts/pfbid0Rpzfu7u9ERu4o49Gm12eqSogKvZ...  \n",
            "4     kpszsu/posts/pfbid0Gvye9Wn2gj8RPiiGaTQFGRas9Yg...  \n",
            "...                                                 ...  \n",
            "2039                           watch/?v=375517448001233  \n",
            "2040  kpszsu/posts/pfbid0nELeXY4BpHrezv54Lk3gWPZJmcC...  \n",
            "2041  kpszsu/posts/pfbid021aK2TqryAuB8gGrDYMTv3R8Xiu...  \n",
            "2042  kpszsu/posts/pfbid02sjn5m7kosAfsm5bSUzpPwbLuH3...  \n",
            "2043  kpszsu/posts/pfbid0grmBx6A5LbQ7PVTkSx7jTDgg4iU...  \n",
            "\n",
            "[2044 rows x 16 columns]\n",
            "time_start               object\n",
            "time_end                 object\n",
            "model                    object\n",
            "launch_place             object\n",
            "target                   object\n",
            "carrier                  object\n",
            "launched                float64\n",
            "destroyed                 int64\n",
            "not_reach_goal          float64\n",
            "cross_border_belarus    float64\n",
            "back_russia             float64\n",
            "still_attacking         float64\n",
            "destroyed_details        object\n",
            "launched_details         object\n",
            "launch_place_details     object\n",
            "source                   object\n",
            "dtype: object\n"
          ]
        }
      ],
      "source": [
        "df = pd.read_csv('missile_attacks_daily.csv')\n",
        "print(df)\n",
        "print(df.dtypes)"
      ]
    },
    {
      "cell_type": "markdown",
      "metadata": {
        "id": "LJqrTfHr2d1G"
      },
      "source": [
        "13. Виведіть на екран перші 10 рядків зчитаного датафрейму."
      ]
    },
    {
      "cell_type": "code",
      "execution_count": 17,
      "metadata": {
        "id": "GdVE9WYwr1sD",
        "colab": {
          "base_uri": "https://localhost:8080/"
        },
        "outputId": "577c9069-de1d-426c-9e79-7e18b5e8bd08"
      },
      "outputs": [
        {
          "output_type": "stream",
          "name": "stdout",
          "text": [
            "         time_start          time_end             model  \\\n",
            "0  2025-01-18 20:00  2025-01-19 09:00    Shahed-136/131   \n",
            "1  2025-01-17 19:00  2025-01-18 08:00    Shahed-136/131   \n",
            "2  2025-01-16 19:00  2025-01-17 09:00    Shahed-136/131   \n",
            "3  2025-01-16 19:00  2025-01-17 09:00  Iskander-M/KN-23   \n",
            "4  2025-01-16 19:00  2025-01-17 09:00        Iskander-M   \n",
            "5  2025-01-15 20:00  2025-01-16 09:00    Shahed-136/131   \n",
            "6  2025-01-15 06:00  2025-01-15 08:00         X-59/X-69   \n",
            "7  2025-01-15 06:00  2025-01-15 08:00         X-22/X-32   \n",
            "8  2025-01-15 06:00  2025-01-15 08:00       X-101/X-555   \n",
            "9  2025-01-15 06:00  2025-01-15 08:00            Kalibr   \n",
            "\n",
            "                                        launch_place       target  carrier  \\\n",
            "0      Bryansk oblast and Oryol oblast and Millerovo      Ukraine      NaN   \n",
            "1  Primorsko-Akhtarsk and Bryansk oblast and Mill...      Ukraine      NaN   \n",
            "2  Primorsko-Akhtarsk and Kursk oblast and Bryans...      Ukraine      NaN   \n",
            "3                 Bryansk oblast and Voronezh oblast  Kyiv oblast      NaN   \n",
            "4                                      Rostov oblast      Ukraine      NaN   \n",
            "5  Primorsko-Akhtarsk and Bryansk oblast and Oryo...      Ukraine      NaN   \n",
            "6                                    Belgorod oblast      Ukraine      NaN   \n",
            "7                                        Tula oblast      Ukraine  Tu-22M3   \n",
            "8                                   Volgograd oblast      Ukraine  Tu-95MS   \n",
            "9                                          Black Sea      Ukraine     Navi   \n",
            "\n",
            "   launched  destroyed  not_reach_goal  cross_border_belarus  back_russia  \\\n",
            "0      61.0         43            15.0                   NaN          NaN   \n",
            "1      39.0         24            14.0                   NaN          NaN   \n",
            "2      50.0         33             9.0                   NaN          NaN   \n",
            "3       4.0          2             NaN                   NaN          NaN   \n",
            "4       2.0          0             NaN                   NaN          NaN   \n",
            "5      55.0         34            18.0                   NaN          NaN   \n",
            "6       4.0          4             NaN                   NaN          NaN   \n",
            "7       7.0          0             NaN                   NaN          NaN   \n",
            "8      27.0         23             NaN                   NaN          NaN   \n",
            "9       4.0          3             NaN                   NaN          NaN   \n",
            "\n",
            "   still_attacking                                  destroyed_details  \\\n",
            "0              1.0  {'Mykolaiv oblast': NaN,    'Kyiv oblast': NaN...   \n",
            "1              NaN  {'Kherson oblast': NaN, 'Khmelnytskyi oblast':...   \n",
            "2              NaN  {'Odesa oblast and Mykolaiv oblast': 7, 'Khmel...   \n",
            "3              NaN                                                NaN   \n",
            "4              NaN                                                NaN   \n",
            "5              NaN  {'Mykolaiv oblast': 5, 'Kyiv oblast': NaN, 'Su...   \n",
            "6              NaN                                                NaN   \n",
            "7              NaN                                                NaN   \n",
            "8              NaN                                       {'west': 20}   \n",
            "9              NaN                                       {'south': 1}   \n",
            "\n",
            "  launched_details launch_place_details  \\\n",
            "0              NaN                  NaN   \n",
            "1              NaN                  NaN   \n",
            "2              NaN                  NaN   \n",
            "3              NaN                  NaN   \n",
            "4              NaN                  NaN   \n",
            "5              NaN                  NaN   \n",
            "6              NaN                  NaN   \n",
            "7              NaN                  NaN   \n",
            "8              NaN                  NaN   \n",
            "9              NaN                  NaN   \n",
            "\n",
            "                                              source  \n",
            "0  kpszsu/posts/pfbid0meYNAsX4voALE4SXunVpzKTwzrJ...  \n",
            "1  kpszsu/posts/pfbid0Rpzfu7u9ERu4o49Gm12eqSogKvZ...  \n",
            "2  kpszsu/posts/pfbid0Gvye9Wn2gj8RPiiGaTQFGRas9Yg...  \n",
            "3  kpszsu/posts/pfbid0Rpzfu7u9ERu4o49Gm12eqSogKvZ...  \n",
            "4  kpszsu/posts/pfbid0Gvye9Wn2gj8RPiiGaTQFGRas9Yg...  \n",
            "5  kpszsu/posts/pfbid0tPwzQHvvr63PbehDshED2WNV2vm...  \n",
            "6  kpszsu/posts/pfbid0kLxxfDQRTeUt5wQT5eahJVkW1fb...  \n",
            "7  kpszsu/posts/pfbid0kLxxfDQRTeUt5wQT5eahJVkW1fb...  \n",
            "8  kpszsu/posts/pfbid0kLxxfDQRTeUt5wQT5eahJVkW1fb...  \n",
            "9  kpszsu/posts/pfbid0kLxxfDQRTeUt5wQT5eahJVkW1fb...  \n"
          ]
        }
      ],
      "source": [
        "df = pd.read_csv('missile_attacks_daily.csv')\n",
        "print(df.head(10))"
      ]
    },
    {
      "cell_type": "markdown",
      "metadata": {
        "id": "1PtkLHWj2lq0"
      },
      "source": [
        "14. Отримайте інформацію про форму датафрейму."
      ]
    },
    {
      "cell_type": "code",
      "execution_count": 18,
      "metadata": {
        "id": "CBPTYTjV2mtG",
        "colab": {
          "base_uri": "https://localhost:8080/"
        },
        "outputId": "155be8a2-e19c-4603-d796-6c6699d985ab"
      },
      "outputs": [
        {
          "output_type": "stream",
          "name": "stdout",
          "text": [
            "(2044, 16)\n"
          ]
        }
      ],
      "source": [
        "df = pd.read_csv('missile_attacks_daily.csv')\n",
        "print(df.shape)"
      ]
    },
    {
      "cell_type": "markdown",
      "metadata": {
        "id": "GDVcFC6F2yVz"
      },
      "source": [
        "15. Отримайте дані про кожну колонку з її назвою, типом даних та кількістю непустих значень."
      ]
    },
    {
      "cell_type": "code",
      "execution_count": 20,
      "metadata": {
        "id": "GTRgfKJ920bn",
        "colab": {
          "base_uri": "https://localhost:8080/"
        },
        "outputId": "a9679297-7b45-42d5-e4dd-ae87aa650ee9"
      },
      "outputs": [
        {
          "output_type": "stream",
          "name": "stdout",
          "text": [
            "<class 'pandas.core.frame.DataFrame'>\n",
            "RangeIndex: 2044 entries, 0 to 2043\n",
            "Data columns (total 16 columns):\n",
            " #   Column                Non-Null Count  Dtype  \n",
            "---  ------                --------------  -----  \n",
            " 0   time_start            2044 non-null   object \n",
            " 1   time_end              2044 non-null   object \n",
            " 2   model                 2044 non-null   object \n",
            " 3   launch_place          1023 non-null   object \n",
            " 4   target                2016 non-null   object \n",
            " 5   carrier               225 non-null    object \n",
            " 6   launched              2041 non-null   float64\n",
            " 7   destroyed             2044 non-null   int64  \n",
            " 8   not_reach_goal        157 non-null    float64\n",
            " 9   cross_border_belarus  32 non-null     float64\n",
            " 10  back_russia           34 non-null     float64\n",
            " 11  still_attacking       28 non-null     float64\n",
            " 12  destroyed_details     294 non-null    object \n",
            " 13  launched_details      4 non-null      object \n",
            " 14  launch_place_details  4 non-null      object \n",
            " 15  source                2044 non-null   object \n",
            "dtypes: float64(5), int64(1), object(10)\n",
            "memory usage: 255.6+ KB\n"
          ]
        }
      ],
      "source": [
        "df = pd.read_csv('missile_attacks_daily.csv')\n",
        "df.info()"
      ]
    },
    {
      "cell_type": "markdown",
      "metadata": {
        "id": "DEy-hgsw2452"
      },
      "source": [
        "16. Отримайте статистику для колонок числового типу."
      ]
    },
    {
      "cell_type": "code",
      "execution_count": 21,
      "metadata": {
        "id": "94mI2N9t267Q",
        "colab": {
          "base_uri": "https://localhost:8080/"
        },
        "outputId": "b5f4762d-be9d-48f9-9cab-f4e7abfef442"
      },
      "outputs": [
        {
          "output_type": "stream",
          "name": "stdout",
          "text": [
            "          launched    destroyed  not_reach_goal  cross_border_belarus  \\\n",
            "count  2041.000000  2044.000000      157.000000             32.000000   \n",
            "mean     10.609995     7.491683       20.828025              2.312500   \n",
            "std      21.041038    14.190972       19.877245              2.054696   \n",
            "min       1.000000     0.000000        1.000000              1.000000   \n",
            "25%       1.000000     1.000000        4.000000              1.000000   \n",
            "50%       2.000000     1.000000       16.000000              2.000000   \n",
            "75%       9.000000     7.000000       30.000000              2.000000   \n",
            "max     193.000000    99.000000      105.000000             10.000000   \n",
            "\n",
            "       back_russia  still_attacking  \n",
            "count    34.000000        28.000000  \n",
            "mean      2.000000         2.821429  \n",
            "std       1.154701         2.931989  \n",
            "min       1.000000         1.000000  \n",
            "25%       1.000000         1.000000  \n",
            "50%       2.000000         1.000000  \n",
            "75%       3.000000         4.000000  \n",
            "max       5.000000        10.000000  \n"
          ]
        }
      ],
      "source": [
        "df = pd.read_csv('missile_attacks_daily.csv')\n",
        "print(df.describe())"
      ]
    },
    {
      "cell_type": "markdown",
      "metadata": {
        "id": "n0MGJU2C2-iD"
      },
      "source": [
        "17. Отримати кількість унікальних значень у кожній колонці. Вивести на екран значення та кількість цих значень у колонці, яка має найменше унікальних значень."
      ]
    },
    {
      "cell_type": "code",
      "execution_count": 22,
      "metadata": {
        "id": "lQh_jdGe3BK5"
      },
      "outputs": [],
      "source": [
        "df = pd.read_csv('missile_attacks_daily.csv')\n",
        "\n",
        "unique_counts = df.nunique()\n",
        "min_unique_column = unique_counts.idxmin()\n",
        "value_counts = df[min_unique_column].value_counts()"
      ]
    },
    {
      "cell_type": "code",
      "execution_count": 23,
      "metadata": {
        "id": "BlAeyE2q3tgd",
        "colab": {
          "base_uri": "https://localhost:8080/"
        },
        "outputId": "b84a54a6-67b5-459e-8078-1df869d25aed"
      },
      "outputs": [
        {
          "output_type": "stream",
          "name": "stdout",
          "text": [
            "launched_details\n",
            "{'X-101/X-555': 50, 'Kalibr': 12}                     1\n",
            "{'X-101/X-555': 55, 'Kalibr': 24, 'Iskander-K': 7}    1\n",
            "{'X-101/X-555': 57, 'Kalibr': 28}                     1\n",
            "{'X-101/X-555': 77, 'Kalibr': 28, 'X-59/X-69': 10}    1\n",
            "Name: count, dtype: int64\n"
          ]
        }
      ],
      "source": [
        "print(value_counts)"
      ]
    },
    {
      "cell_type": "markdown",
      "metadata": {
        "id": "iVRkzUti3uC_"
      },
      "source": [
        "18. На основі отриманої інформації про датасет вище, опишіть по пунктах, що б ви виправили або на що б звернули увагу на кроці очищення даних і чому?"
      ]
    },
    {
      "cell_type": "markdown",
      "metadata": {
        "id": "9_Q-Fcuo30zY"
      },
      "source": [
        "**місце для текстової відповіді**\n",
        "\n",
        "1.   Дані в цій колонці представлені як словники в рядках, що не є ідеальним для аналізу. В колонці можуть бути пропуски або некоректні дані. Кількість ракет кожного типу відображається окремими рядками, що ускладнює підрахунок загальної кількості запусків. Колонка з мінімальною кількістю унікальних значень може містити статичні дані або дані, що не додають користі для аналізу. Дані можуть містити дублікати рядків.\n",
        "...\n"
      ]
    },
    {
      "cell_type": "markdown",
      "metadata": {
        "id": "Ue9ECz5-3_pq"
      },
      "source": [
        "# V. Data Cleaning"
      ]
    },
    {
      "cell_type": "markdown",
      "metadata": {
        "id": "ZtHUiSrV4CL-"
      },
      "source": [
        "19. Перетворити колонку launched у цілочислену (Int64). Перевірити, чи все пройшло, як очікувалось."
      ]
    },
    {
      "cell_type": "code",
      "execution_count": 24,
      "metadata": {
        "id": "AWyo_-Un3xqz",
        "colab": {
          "base_uri": "https://localhost:8080/"
        },
        "outputId": "a4a56f54-db22-4a26-eb81-4045d8042b22"
      },
      "outputs": [
        {
          "output_type": "stream",
          "name": "stdout",
          "text": [
            "Before convertatio\n",
            "float64\n"
          ]
        }
      ],
      "source": [
        "print(\"Before convertatio\")\n",
        "print(df['launched'].dtypes)\n",
        "\n",
        "df['launched'] = pd.to_numeric(df['launched'], errors='coerce')\n",
        "df['launched'] = df['launched'].fillna(0).astype('Int64')"
      ]
    },
    {
      "cell_type": "code",
      "execution_count": 25,
      "metadata": {
        "id": "ys_OfWeQ4OjW",
        "colab": {
          "base_uri": "https://localhost:8080/"
        },
        "outputId": "e81c0a89-930c-44ec-bc9e-194cf5274d9c"
      },
      "outputs": [
        {
          "output_type": "stream",
          "name": "stdout",
          "text": [
            "After convertation\n",
            "Int64\n",
            "Data check\n",
            "0    61\n",
            "1    39\n",
            "2    50\n",
            "3     4\n",
            "4     2\n",
            "Name: launched, dtype: Int64\n"
          ]
        }
      ],
      "source": [
        "print(\"After convertation\")\n",
        "print(df['launched'].dtypes)\n",
        "\n",
        "print(\"Data check\")\n",
        "print(df['launched'].head())"
      ]
    },
    {
      "cell_type": "markdown",
      "metadata": {
        "id": "KsHhM4EM4O3d"
      },
      "source": [
        "20. Видалити колонки, де кількість непустих значень становить менше 30% від загальної кількості записів."
      ]
    },
    {
      "cell_type": "code",
      "execution_count": 26,
      "metadata": {
        "id": "Z1ZCclle4Vyk"
      },
      "outputs": [],
      "source": [
        "threshold = 0.3 * len(df)\n",
        "df = df.loc[:, df.count() >= threshold]"
      ]
    },
    {
      "cell_type": "code",
      "execution_count": 27,
      "metadata": {
        "id": "MGrORLGe4XA2",
        "colab": {
          "base_uri": "https://localhost:8080/"
        },
        "outputId": "d2a4a8d6-0d3a-4fdb-b348-9123ac5ee962"
      },
      "outputs": [
        {
          "output_type": "stream",
          "name": "stdout",
          "text": [
            "Index(['time_start', 'time_end', 'model', 'launch_place', 'target', 'launched',\n",
            "       'destroyed', 'source'],\n",
            "      dtype='object')\n"
          ]
        }
      ],
      "source": [
        "print(df.columns)"
      ]
    },
    {
      "cell_type": "markdown",
      "metadata": {
        "id": "p8cD0M0U4cNT"
      },
      "source": [
        "21. Очистити датафрейм від дублікатів (дублюючихся рядків) та записів, де атака продовжувалась відʼємну або нульову кількість часу (що фізично неможливо). Не забудьте оновити індекс. Скільки рядків було видалено? Як ви це перевірили у коді?"
      ]
    },
    {
      "cell_type": "code",
      "execution_count": 29,
      "metadata": {
        "id": "in3Fvn0I4l-I",
        "colab": {
          "base_uri": "https://localhost:8080/"
        },
        "outputId": "5148b163-7610-4e8e-f2b8-a25236c340cc"
      },
      "outputs": [
        {
          "output_type": "stream",
          "name": "stdout",
          "text": [
            "Deleted rows -> 1610\n"
          ]
        }
      ],
      "source": [
        "initial_rows = len(df)\n",
        "df['time_start'] = pd.to_datetime(df['time_start'], errors='coerce')\n",
        "df['time_end'] = pd.to_datetime(df['time_end'], errors='coerce')\n",
        "\n",
        "df['attack_duration'] = (df['time_end'] - df['time_start']).dt.total_seconds() / 60\n",
        "df = df.drop_duplicates()\n",
        "df = df[df['attack_duration'] > 0]\n",
        "\n",
        "df.reset_index(drop=True, inplace=True)\n",
        "final_rows = len(df)\n",
        "\n",
        "\n",
        "removed_rows = initial_rows - final_rows\n",
        "print(f\"Deleted rows -> {removed_rows}\")"
      ]
    },
    {
      "cell_type": "markdown",
      "metadata": {
        "id": "8zqL82Ie4nqY"
      },
      "source": [
        "**місце для текстової відповіді**"
      ]
    },
    {
      "cell_type": "markdown",
      "source": [
        "Кількість видалених рядків було обчислено за допомогою різниці між початковою кількістю рядків та кінцевою кількістю рядків."
      ],
      "metadata": {
        "id": "Ni9ap-6GeEeI"
      }
    },
    {
      "cell_type": "markdown",
      "metadata": {
        "id": "6oZ7C_ry4uvb"
      },
      "source": [
        "22. Виведіть на екран всі рядки, де є хоч одне пропущене значення."
      ]
    },
    {
      "cell_type": "code",
      "execution_count": 30,
      "metadata": {
        "id": "BPmCTDtg4wVS",
        "colab": {
          "base_uri": "https://localhost:8080/"
        },
        "outputId": "44297d98-9c50-4947-e947-142179f36887"
      },
      "outputs": [
        {
          "output_type": "stream",
          "name": "stdout",
          "text": [
            "             time_start            time_end                   model  \\\n",
            "25  2025-01-03 12:00:00 2025-01-03 20:00:00               X-59/X-69   \n",
            "27  2025-01-03 12:00:00 2025-01-03 20:00:00              Iskander-M   \n",
            "28  2025-01-03 12:00:00 2025-01-03 20:00:00                   C-300   \n",
            "45  2024-12-25 05:00:00 2024-12-25 10:00:00  X-101/X-555 and Kalibr   \n",
            "64  2024-12-14 19:00:00 2024-12-15 08:30:00                   C-300   \n",
            "..                  ...                 ...                     ...   \n",
            "429 2022-10-06 15:00:00 2022-10-06 20:00:00               Mohajer-6   \n",
            "430 2022-10-06 09:00:00 2022-10-06 11:30:00          Shahed-136/131   \n",
            "431 2022-10-06 09:00:00 2022-10-06 11:30:00               Mohajer-6   \n",
            "432 2022-10-02 00:00:00 2022-10-02 02:00:00          Shahed-136/131   \n",
            "433 2022-09-29 23:00:00 2022-09-29 23:59:00          Shahed-136/131   \n",
            "\n",
            "    launch_place                            target  launched  destroyed  \\\n",
            "25           NaN             Dnipropetrovsk oblast         3          3   \n",
            "27           NaN                  Chernihiv oblast         3          0   \n",
            "28           NaN                      Kursk oblast         5          0   \n",
            "45           NaN                           Ukraine        62         55   \n",
            "64           NaN                           Ukraine         1          0   \n",
            "..           ...                               ...       ...        ...   \n",
            "429          NaN                             south         1          1   \n",
            "430          NaN                   Mykolaiv oblast         2          2   \n",
            "431          NaN                   Mykolaiv oblast         1          1   \n",
            "432          NaN                   Mykolaiv oblast         7          5   \n",
            "433          NaN  Odesa oblast and Mykolaiv oblast         7          5   \n",
            "\n",
            "                                                source  attack_duration  \n",
            "25   kpszsu/posts/pfbid02v1KGGb6TjgiYbVUoMCWPuAVZYn...            480.0  \n",
            "27   kpszsu/posts/pfbid02v1KGGb6TjgiYbVUoMCWPuAVZYn...            480.0  \n",
            "28   kpszsu/posts/pfbid02v1KGGb6TjgiYbVUoMCWPuAVZYn...            480.0  \n",
            "45   kpszsu/posts/pfbid02YK2sa7Z1E1QFpPfQVTMhRjj4QC...            300.0  \n",
            "64   kpszsu/posts/pfbid02HZKn1S4PTdUZGmN8LB12imWDN1...            810.0  \n",
            "..                                                 ...              ...  \n",
            "429  kpszsu/posts/pfbid0rxEnbpvxAg8d8J5NW9ABgghPzcb...            300.0  \n",
            "430  kpszsu/posts/pfbid02YPkepucHoDQbmGfZURk8ScqNyM...            150.0  \n",
            "431  kpszsu/posts/pfbid02YPkepucHoDQbmGfZURk8ScqNyM...            150.0  \n",
            "432  kpszsu/posts/pfbid021aK2TqryAuB8gGrDYMTv3R8Xiu...            120.0  \n",
            "433  kpszsu/posts/pfbid021aK2TqryAuB8gGrDYMTv3R8Xiu...             59.0  \n",
            "\n",
            "[120 rows x 9 columns]\n"
          ]
        }
      ],
      "source": [
        "missing_values_rows = df[df.isnull().any(axis=1)]\n",
        "print(missing_values_rows)"
      ]
    }
  ],
  "metadata": {
    "colab": {
      "provenance": []
    },
    "kernelspec": {
      "display_name": "Python 3",
      "name": "python3"
    },
    "language_info": {
      "codemirror_mode": {
        "name": "ipython",
        "version": 3
      },
      "file_extension": ".py",
      "mimetype": "text/x-python",
      "name": "python",
      "nbconvert_exporter": "python",
      "pygments_lexer": "ipython3",
      "version": "3.11.5"
    }
  },
  "nbformat": 4,
  "nbformat_minor": 0
}